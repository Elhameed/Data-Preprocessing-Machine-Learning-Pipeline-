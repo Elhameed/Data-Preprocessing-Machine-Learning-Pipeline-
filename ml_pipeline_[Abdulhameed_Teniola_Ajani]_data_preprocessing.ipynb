{
  "cells": [
    {
      "cell_type": "markdown",
      "metadata": {
        "id": "view-in-github",
        "colab_type": "text"
      },
      "source": [
        "<a href=\"https://colab.research.google.com/github/Elhameed/Data-Preprocessing-Machine-Learning-Pipeline-/blob/main/ml_pipeline_%5BAbdulhameed_Teniola_Ajani%5D_data_preprocessing.ipynb\" target=\"_parent\"><img src=\"https://colab.research.google.com/assets/colab-badge.svg\" alt=\"Open In Colab\"/></a>"
      ]
    },
    {
      "cell_type": "markdown",
      "metadata": {
        "id": "37BV7-CMEbMj"
      },
      "source": [
        "# Data Processing Approach for Portfolio Project\n",
        "\n",
        "## Project Title: Speech Emotion Recognition\n",
        "## ![th-2699871063.png](data:image/png;base64,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)\n",
        "\n",
        "## Student Name: Abdulhameed Teniola Ajani\n",
        "\n",
        "---\n",
        "\n",
        "1. **Data Sources and Aggregation:**\n",
        "   - List all sources of data for the project. **You must consider sources outside kaggle, google datasets** (insert links where necessary to online platforms,research papers etc)\n",
        "\n",
        "   **The primary dataset for this project is the RAVDESS dataset (https://www.kaggle.com/datasets/uw-madison/ravdess-emotional-speech-audio). This dataset contains 1440 audio files, representing emotions like happy, sad, angry, fearful, surprised, disgust, calm, and neutral, recorded by professional actors. **\n",
        "\n",
        "   **Additional Source:** The CREMA-D dataset (https://github.com/CheyneyComputerScience/CREMA-D) is another widely used emotional speech dataset with 7,442 audio files from 91 actors. It complements RAVDESS by offering additional variability in accents and pronunciations, which could improve model generalization. However, for this project, the RAVDESS dataset alone is sufficient for achieving the outlined objectives, so data aggregation is not necessary.\n",
        "\n",
        "   \n",
        "   - Determine if data aggregation from multiple sources is necessary for comprehensive analysis.\n",
        "\n",
        "    **This dataset is sufficient for the scope of this project, so there's no need to aggregate additional sources.\n",
        " **\n",
        "\n"
      ],
      "id": "37BV7-CMEbMj"
    },
    {
      "cell_type": "code",
      "source": [
        "import os\n",
        "import shutil\n",
        "\n",
        "# Define the source path where the Actor folders are located\n",
        "source_path = '/content'\n",
        "# Define the target path where you want to create emotion folders\n",
        "target_path = '/content/emotions'\n",
        "\n",
        "# Create target directory if it doesn't exist\n",
        "if not os.path.exists(target_path):\n",
        "    os.makedirs(target_path)\n",
        "\n",
        "# Define the emotion mapping based on file naming convention\n",
        "emotion_map = {\n",
        "    '01': 'neutral',\n",
        "    '02': 'calm',\n",
        "    '03': 'happy',\n",
        "    '04': 'sad',\n",
        "    '05': 'angry',\n",
        "    '06': 'fearful',\n",
        "    '07': 'disgust',\n",
        "    '08': 'surprised',\n",
        "}\n",
        "\n",
        "# Iterate through the Actor folders and move files\n",
        "for actor in range(1, 5):  # For Actor_01 to Actor_04\n",
        "    actor_folder = f'Actor_{actor:02d}'\n",
        "    actor_path = os.path.join(source_path, actor_folder)\n",
        "\n",
        "    for file_name in os.listdir(actor_path):\n",
        "        if file_name.endswith('.wav'):\n",
        "            # Extract emotion code from filename (e.g., \"03\" for sad)\n",
        "            emotion_code = file_name.split('-')[2]  # Part 3 of filename\n",
        "            emotion = emotion_map[emotion_code]  # Map to emotion name\n",
        "\n",
        "            # Create emotion folder if it doesn't exist\n",
        "            emotion_folder = os.path.join(target_path, emotion)\n",
        "            if not os.path.exists(emotion_folder):\n",
        "                os.makedirs(emotion_folder)\n",
        "\n",
        "            # Move file to the corresponding emotion folder\n",
        "            shutil.move(os.path.join(actor_path, file_name), os.path.join(emotion_folder, file_name))\n",
        "\n",
        "print(\"Dataset reorganized into emotion folders.\")"
      ],
      "metadata": {
        "id": "K6W_BkY6FGRL",
        "colab": {
          "base_uri": "https://localhost:8080/"
        },
        "outputId": "e56e741c-2d53-43d6-bb52-b45be12fdb8e"
      },
      "id": "K6W_BkY6FGRL",
      "execution_count": 2,
      "outputs": [
        {
          "output_type": "stream",
          "name": "stdout",
          "text": [
            "Dataset reorganized into emotion folders.\n"
          ]
        }
      ]
    },
    {
      "cell_type": "markdown",
      "source": [
        "\n",
        "\n",
        "2. **Data Format Transformation:**\n",
        "   - Describe the current format of the data.\n",
        "   - Outline the planned transformation to a unified format suitable for analysis and modeling.\n",
        "\n",
        " **The RAVDESS dataset is stored as .wav audio files, organized in folders by actors. The files were reorganized into folders representing each emotion for easier processing. After reorganizing, I processed each audio file by loading it using the librosa library, then generating spectrograms to represent the audio data as 2D arrays. Each spectrogram was resized to a 64x64 resolution to standardize input dimensions for the Convolutional Neural Network (CNN).\n",
        " **\n",
        "\n",
        "3. **Data Exploration:**\n",
        "   - Enumerate the features included in the dataset.\n",
        "   \n",
        "   - Summarize findings from exploratory data analysis (EDA) including distributions, correlations, and outliers.\n",
        "\n",
        "   ** **Features:** The primary features are the spectrograms derived from the audio data, which serve as a visual representation of the sound frequencies over time.\n",
        "\n",
        "   **Exploration:** Basic data exploration includes visualization of spectrograms, checking the shape of the arrays, and label distribution to ensure balanced classes.\n",
        " **\n",
        "   \n",
        "  **Insert code for data exploration below**\n"
      ],
      "metadata": {
        "id": "TzyeghJDEjit"
      },
      "id": "TzyeghJDEjit"
    },
    {
      "cell_type": "code",
      "source": [
        "# Describe the current data format ( .wav ) and transformation process\n",
        "import librosa\n",
        "import numpy as np\n",
        "import os\n",
        "from skimage.transform import resize\n",
        "\n",
        "# Function to load audio and convert to spectrogram\n",
        "def load_audio_files(data_path):\n",
        "    spectrograms = []\n",
        "    labels = []\n",
        "    emotion_mapping = {\n",
        "        'neutral': 0,\n",
        "        'calm': 1,\n",
        "        'happy': 2,\n",
        "        'sad': 3,\n",
        "        'angry': 4,\n",
        "        'fearful': 5,\n",
        "        'disgust': 6,\n",
        "        'surprised': 7\n",
        "    }\n",
        "\n",
        "    # Iterate over each emotion folder\n",
        "    for emotion_folder in os.listdir(data_path):\n",
        "        emotion_path = os.path.join(data_path, emotion_folder)\n",
        "        if os.path.isdir(emotion_path):\n",
        "            emotion_label = emotion_mapping[emotion_folder]  # Get the emotion label\n",
        "\n",
        "            for file_name in os.listdir(emotion_path):\n",
        "                if file_name.endswith('.wav'):\n",
        "                    file_path = os.path.join(emotion_path, file_name)\n",
        "                    # Load audio\n",
        "                    audio, sr = librosa.load(file_path, sr=48000)\n",
        "                    # Convert to spectrogram (STFT)\n",
        "                    spect = librosa.stft(audio)\n",
        "                    spect_db = librosa.amplitude_to_db(abs(spect))\n",
        "                    # Resize spectrogram to 64x64\n",
        "                    spect_resized = resize(spect_db, (64, 64), anti_aliasing=True)\n",
        "                    spectrograms.append(spect_resized)\n",
        "                    labels.append(emotion_label)  # Append the emotion label\n",
        "\n",
        "    return np.array(spectrograms), np.array(labels)\n",
        "\n",
        "# Example usage\n",
        "data_path = '/content/emotions'\n",
        "spectrograms, labels = load_audio_files(data_path)\n",
        "\n",
        "# Check the shapes of the arrays\n",
        "print(f'Shape of spectrograms: {spectrograms.shape}')\n",
        "print(f'Shape of labels: {labels.shape}')\n"
      ],
      "metadata": {
        "colab": {
          "base_uri": "https://localhost:8080/"
        },
        "id": "XSsUjlTVD9XD",
        "outputId": "2309aa06-ec0b-4733-874c-fe51520fb440"
      },
      "id": "XSsUjlTVD9XD",
      "execution_count": 4,
      "outputs": [
        {
          "output_type": "stream",
          "name": "stdout",
          "text": [
            "Shape of spectrograms: (240, 64, 64)\n",
            "Shape of labels: (240,)\n"
          ]
        }
      ]
    },
    {
      "cell_type": "code",
      "source": [
        "#Include plots for EDA\n",
        "\n",
        "import matplotlib.pyplot as plt\n",
        "\n",
        "# Visualizing some spectrograms\n",
        "plt.figure(figsize=(12, 8))\n",
        "for i in range(5):  # Plot the first 5 spectrograms\n",
        "    plt.subplot(2, 5, i + 1)\n",
        "    plt.imshow(spectrograms[i], aspect='auto', origin='lower')\n",
        "    plt.title(f'Label: {labels[i]}')\n",
        "    plt.axis('off')\n",
        "plt.tight_layout()\n",
        "plt.show()"
      ],
      "metadata": {
        "id": "oYEgIOxSFUHW",
        "colab": {
          "base_uri": "https://localhost:8080/",
          "height": 425
        },
        "outputId": "6a7f93c0-7ea6-444e-dc79-599fb7a71689"
      },
      "id": "oYEgIOxSFUHW",
      "execution_count": 17,
      "outputs": [
        {
          "output_type": "display_data",
          "data": {
            "text/plain": [
              "<Figure size 1200x800 with 5 Axes>"
            ],
            "image/png": "[encoded data removed]"
          },
          "metadata": {}
        }
      ]
    },
    {
      "cell_type": "markdown",
      "source": [
        "\n",
        "\n",
        "4. **Hypothesis Testing:**\n",
        "   - State any preexisting hypotheses about the data.\n",
        "   - Explain methodologies to empirically test these hypotheses.\n",
        "\n",
        "   ** **Hypothesis:** Emotional states such as \"angry\" or \"sad\" are expected to show distinct spectrogram patterns due to different voice frequencies.\n",
        "\n",
        "   **Testing:** The CNN model will be trained to predict emotions from spectrograms, and its performance will be evaluated using metrics like accuracy, confusion matrix to analyze its performance in distinguishing between emotions. **\n",
        "\n",
        "5. **Handling Sparse/Dense Data and Outliers:**\n",
        "   - Assess the density of the data.\n",
        "   - Propose strategies to handle missing data and outliers while maintaining dataset integrity.\n",
        "\n",
        "   ** **Sparsity:** The data is dense since every audio file provides a rich source of information for each emotion with each spectrogram being a 64x64 image. There are no missing files within the selected subset (Actor_01 to Actor_04).\n",
        "\n",
        "   **Outliers:** Given that each audio file is verified, outliers in terms of data points are not expected. However, feature normalization is applied during preprocessing.\n",
        " **\n",
        "\n",
        "   **Insert code for Handling Sparse/Dense Data and Outliers below**"
      ],
      "metadata": {
        "id": "tHKtxjFKFNpB"
      },
      "id": "tHKtxjFKFNpB"
    },
    {
      "cell_type": "code",
      "source": [
        "# Handling outliers by normalizing the data\n",
        "spectrograms = spectrograms.astype('float32')\n",
        "spectrograms = (spectrograms - np.mean(spectrograms)) / np.std(spectrograms)\n"
      ],
      "metadata": {
        "id": "f_R52s5RE_wj"
      },
      "id": "f_R52s5RE_wj",
      "execution_count": 6,
      "outputs": []
    },
    {
      "cell_type": "markdown",
      "source": [
        "6. **Data Splitting:**\n",
        "   - Define a methodology to split the dataset into training, validation, and testing sets.\n",
        "   - Ensure randomness and representativeness in each subset.\n",
        "\n",
        "    **The dataset is split into training, validation, and test sets using train_test_split. The training set contains 70%, the validation set 15%, and the test set 15% of the data. This ensures randomness and balanced representation of all emotion classes in each set. **\n",
        "\n",
        "7. **Bias Mitigation:**\n",
        "   - Implement techniques to identify and mitigate biases in the dataset.\n",
        "   - Ensure fairness and equity in data representation.\n",
        "   \n",
        "    **Balanced Classes: Each emotion is represented equally by selecting audio files from the specified actors, ensuring balanced class representation for training, validation, and testing. **\n",
        "\n"
      ],
      "metadata": {
        "id": "5SS3lD0sGPGe"
      },
      "id": "5SS3lD0sGPGe"
    },
    {
      "cell_type": "code",
      "source": [
        "from sklearn.model_selection import train_test_split\n",
        "\n",
        "# Split the data into training, validation, and test sets\n",
        "X_train, X_temp, y_train, y_temp = train_test_split(spectrograms, labels, test_size=0.3, random_state=42)  # 70% train, 30% temp\n",
        "X_val, X_test, y_val, y_test = train_test_split(X_temp, y_temp, test_size=0.5, random_state=42)  # 15% val, 15% test\n",
        "\n",
        "# Check the shapes of the split datasets\n",
        "print(f'Train set shape: {X_train.shape}, Labels shape: {y_train.shape}')\n",
        "print(f'Validation set shape: {X_val.shape}, Labels shape: {y_val.shape}')\n",
        "print(f'Test set shape: {X_test.shape}, Labels shape: {y_test.shape}')"
      ],
      "metadata": {
        "id": "iX_5Hl65GEgY",
        "colab": {
          "base_uri": "https://localhost:8080/"
        },
        "outputId": "f7e0ddd3-8168-4f15-d9cd-adc333719ffb"
      },
      "id": "iX_5Hl65GEgY",
      "execution_count": 8,
      "outputs": [
        {
          "output_type": "stream",
          "name": "stdout",
          "text": [
            "Train set shape: (168, 64, 64), Labels shape: (168,)\n",
            "Validation set shape: (36, 64, 64), Labels shape: (36,)\n",
            "Test set shape: (36, 64, 64), Labels shape: (36,)\n"
          ]
        }
      ]
    },
    {
      "cell_type": "markdown",
      "source": [
        "8. **Features for Model Training:**\n",
        "   - Identify relevant features for training the model.\n",
        "   - Rank features based on their significance to project objectives.\n",
        "\n",
        "  ** The primary feature used for model training is the spectrogram, representing a 2D transformation of the audio signal.\n",
        "\n",
        "  The spectogram is the most significant feature because it captures the full range of time-frequency characteristics of speech, which is crucial for distinguishing between various emotional states.\n",
        "  \n",
        "  Another feature is **pitch** which is for identifying emotional tone and intensity, as different emotions often manifest with varying pitch levels.\n",
        "  \n",
        "  Temporal features such as speech duration may also be relevant but are not utilized in this model.**\n",
        "   \n",
        "9. **Types of Data Handling:**\n",
        "   - Classify the types of data (categorical, numerical, etc.) present in the dataset.\n",
        "   - Plan preprocessing steps for each data type.\n",
        "\n",
        "   *Categorical data: Emotion labels (e.g., neutral, happy, sad) are categorical, and one-hot encoding is used for labels.\n",
        "   Numerical data: Spectrogram pixel values are numeric and are scaled and normalized for model input.*\n"
      ],
      "metadata": {
        "id": "OzGrkCCXGUxV"
      },
      "id": "OzGrkCCXGUxV"
    },
    {
      "cell_type": "code",
      "source": [
        "from tensorflow.keras.utils import to_categorical\n",
        "\n",
        "# Convert labels to one-hot encoding for preprocessing\n",
        "y_train_one_hot = to_categorical(y_train, num_classes=8)\n",
        "y_val_one_hot = to_categorical(y_val, num_classes=8)\n",
        "y_test_one_hot = to_categorical(y_test, num_classes=8)\n"
      ],
      "metadata": {
        "id": "h3D2_P6KJnn_"
      },
      "id": "h3D2_P6KJnn_",
      "execution_count": 10,
      "outputs": []
    },
    {
      "cell_type": "markdown",
      "source": [
        "\n",
        "10. **Data Transformation for Modeling:**\n",
        "    - Specify methods for transforming raw data into a model-friendly format.\n",
        "    - Detail steps for normalization, scaling, or encoding categorical variables.\n",
        "\n",
        "11. **Data Storage:**\n",
        "    - Determine where and how processed data will be stored.\n",
        "    - Choose suitable storage solutions ensuring accessibility and security.\n",
        "\n",
        "---\n",
        "**Data Transformation for Modeling:**\n",
        "\n",
        "- **Methods for transforming raw data into a model-friendly format:**\n",
        "    - **Loading the audio files:** I used librosa to load .wav files and convert them into numerical arrays for further processing.\n",
        "    - **Feature extraction:** The raw audio files are converted into spectrograms, which are 2D representations of the sound. Specifically, I used Short-Time Fourier Transform (STFT) to extract the frequency components of the audio. This helps in understanding the patterns in the audio data related to speech emotions.\n",
        "    - **Resizing the spectrograms:** I resized the extracted spectrograms to a consistent size (64x64) using skimage.transform.resize to ensure they can be inputted into the Convolutional Neural Network (CNN). The resizing is crucial because the CNN requires fixed-size input images.\n",
        "    - **Normalization:** I standardized the spectrograms by subtracting the mean and dividing by the standard deviation. This helps in speeding up training and improving model performance by ensuring that the features are on the same scale.\n",
        "    - **Data split:** The data is split into training, validation, and test sets using train_test_split from sklearn. This allows for efficient model evaluation and helps in preventing overfitting.\n",
        "- **Steps for normalization, scaling, or encoding categorical variables:**\n",
        "    - **Normalization/Scaling:** The spectrograms are normalized using standardization, where the mean of the training data is subtracted and then divided by the standard deviation.\n",
        "    - **Encoding categorical variables:** The labels (emotions) are one-hot encoded using to_categorical from Keras. This ensures that the model can handle categorical outputs (emotions) and predict the likelihood of each emotion.\n",
        "\n",
        "\n",
        "**Data Storage:**\n",
        "- **Where and how processed data will be stored:**\n",
        "    - **Data Storage during Processing:** The processed audio files (in the form of spectrograms) are stored in memory (in spectrograms and labels arrays). These are NumPy arrays, which are easy to manipulate and feed into the model. The training, validation, and test sets are stored in separate arrays for efficient access during model training and evaluation.\n",
        "    - **Persisting the trained model:** After training the models, the trained model is saved to disk using model.save('vanilla_model.keras').\n",
        "- **Choose suitable storage solutions ensuring accessibility and security:**\n",
        "    - For local development and testing, I stored the processed data in local directories and saved the model in the working directory. This ensures that I can easily access the data during the model training phase.\n",
        "---\n",
        "\n",
        "#### Notes:\n",
        "- This template provides a structured framework for documenting your data processing approach for the portfolio project.\n",
        "- Fill out each section with specific details relevant to your project's requirements and objectives.\n",
        "- Use additional cells as needed to provide comprehensive information."
      ],
      "metadata": {
        "id": "lG_mx92GGX6W"
      },
      "id": "lG_mx92GGX6W"
    },
    {
      "cell_type": "code",
      "source": [
        "from skimage.transform import resize\n",
        "\n",
        "# Function to resize spectrograms to 64x64\n",
        "def resize_spectrograms(spectrograms, target_size=(64, 64)):\n",
        "    resized = []\n",
        "    for spec in spectrograms:\n",
        "        resized_spec = resize(spec, target_size, anti_aliasing=True)\n",
        "        resized.append(resized_spec)\n",
        "    return np.array(resized)\n"
      ],
      "metadata": {
        "id": "OW8YbRU0G0UN"
      },
      "id": "OW8YbRU0G0UN",
      "execution_count": 11,
      "outputs": []
    }
  ],
  "metadata": {
    "kernelspec": {
      "display_name": "Python 3",
      "language": "python",
      "name": "python3"
    },
    "language_info": {
      "codemirror_mode": {
        "name": "ipython",
        "version": 3
      },
      "file_extension": ".py",
      "mimetype": "text/x-python",
      "name": "python",
      "nbconvert_exporter": "python",
      "pygments_lexer": "ipython3",
      "version": "3.9.7"
    },
    "colab": {
      "provenance": [],
      "include_colab_link": true
    }
  },
  "nbformat": 4,
  "nbformat_minor": 5
}